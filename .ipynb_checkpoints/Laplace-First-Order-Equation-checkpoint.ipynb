{
 "cells": [
  {
   "cell_type": "markdown",
   "metadata": {},
   "source": [
    "# Laplace Transform: Solve First Order Equation\n",
    "\n",
    "The transforms of $f(t)$ and $y(t)$ are $F(s)$ and $Y(s)$\n",
    "\n",
    "Definition: $$F(s) = \\int_0^\\infty f(t) e^{-st} dt $$\n",
    "\n",
    "## Example: $f(t) = e^{at}$\n",
    "\n",
    "$$F(s) = \\int_0^\\infty e^{at}e^{-st} dt = \\left[ \\frac{e^{(a-s)t}}{a-s} \\right]_0^{t=\\infty}$$\n",
    "\n",
    "We only look for $s > a$, so $a-s$ is negative and the exponential converge, $e^{(a-s)t} \\to 0$ as $t \\to \\infty$\n",
    "\n",
    "$$F(s) = \\frac{1}{s-a}$$ \n",
    "pole at $s = a$\n",
    "\n"
   ]
  },
  {
   "cell_type": "markdown",
   "metadata": {},
   "source": [
    "## Solve $\\frac{dy}{dt} - ay = 0$\n",
    "\n",
    "Apply Laplace transform $\\frac{dy}{dt}$\n",
    "\n",
    "$$\\int_0^\\infty \\frac{dy}{dt} e^{-st} dt = \\int_0^\\infty y(t)(se^{-st}) dt + \\left[ ye^{-st} \\right]_0^\\infty$$\n",
    "\n",
    "$$\\text{Transform of } \\frac{dy}{dt} = sY(s) - y(0)$$\n",
    "\n",
    "$\\mathscr{L}(\\frac{dy}{dt} - ay = 0)$\n",
    "$$sY(s) - y(0) - aY(s) = 0 $$\n",
    "$$Y(s) = \\frac{y(0)}{s-a}$$\n",
    "\n",
    "Inverse Laplace transform on $Y(s)$, $\\mathscr{L^{-1}}(Y(s))$\n",
    "\n",
    "$$y(t) = y(0)e^{at}$$\n",
    "\n"
   ]
  },
  {
   "cell_type": "markdown",
   "metadata": {},
   "source": [
    "## Solve $\\frac{dy}{dt} - ay = e^{ct}$\n",
    "\n",
    "Laplace tranform the equation\n",
    "\n",
    "$$sY(s) - y(0) - aY(s) = \\frac{1}{s-c}$$\n",
    "\n",
    "$$Y(s) = \\frac{1}{(s-c)(s-a)} + \\frac{y(0)}{s-a}$$\n",
    "\n",
    "partial fraction\n",
    "\n",
    "$$Y(s) = \\frac{1}{(s-c)(c-a)} + \\frac{1}{(a-c)(s-a)} + \\frac{y(0)}{s-a}$$\n",
    "\n",
    "$\\mathscr{L^{-1}}(Y(s))$\n",
    "\n",
    "$$y(t) = \\frac{e^{ct} - e^{at}}{c-a} + y(0) e^{at}$$\n",
    "\n",
    "complete solution = particular solution + nullspace solution"
   ]
  },
  {
   "cell_type": "markdown",
   "metadata": {},
   "source": [
    "So, Laplace tranform converts the diffrential equation into an algebra equation. Solved that algebra equation, then inverse Laplace transform back. Notice that, we use partial fraction to separate two poles into one pole, which gives us easy fraction, that can be inversely transform back."
   ]
  },
  {
   "cell_type": "code",
   "execution_count": null,
   "metadata": {},
   "outputs": [],
   "source": []
  }
 ],
 "metadata": {
  "kernelspec": {
   "display_name": "Julia 1.5.0",
   "language": "julia",
   "name": "julia-1.5"
  },
  "language_info": {
   "file_extension": ".jl",
   "mimetype": "application/julia",
   "name": "julia",
   "version": "1.5.0"
  }
 },
 "nbformat": 4,
 "nbformat_minor": 4
}
