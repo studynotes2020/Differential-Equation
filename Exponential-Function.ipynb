{
 "cells": [
  {
   "cell_type": "markdown",
   "metadata": {},
   "source": [
    "# Exponential $y = e^x$\n",
    "\n",
    "The first differential equation: The slope of the function is equal to the function itself. (First property)\n",
    "\n",
    "$$\\frac{dy}{dx} = y$$\n",
    "\n",
    "Second property: The function starts from zero and $y = 1$ at $x = 0$\n",
    "\n",
    "Third property: $e^x.e^y = e^{x+y}$ is true\n",
    "\n",
    "We want to construct a function that help us to find e\n",
    "\n",
    "From the first and second property, we know they are equal and starts from 1\n",
    "\n",
    "$$y(x) = 1$$\n",
    "\n",
    "$$\\frac{dy}{dx} = 1$$\n",
    "\n",
    "But we cannot stop here, because y is equal to its derivative\n",
    "\n",
    "$$y(x) = 1 + x$$\n",
    "\n",
    "$$\\frac{dy}{dx} = 1$$\n",
    "\n",
    "Got to add x so that they are equal\n",
    "\n",
    "$$y(x) = 1 + x$$\n",
    "\n",
    "$$\\frac{dy}{dx} = 1 + x$$\n",
    "\n",
    "y is equal to its derivative\n",
    "\n",
    "$$y(x) = 1 + x + \\frac12 x^2$$\n",
    "\n",
    "$$\\frac{dy}{dx} = 1 + x$$\n",
    "\n",
    "Got to make its derivative equal\n",
    "\n",
    "$$y(x) = 1 + x + \\frac12 x^2$$\n",
    "\n",
    "$$\\frac{dy}{dx} = 1 + x + \\frac12 x^2$$\n",
    "\n",
    "As we can see this goes on forever\n",
    "\n",
    "$$y(x) = 1 + x + \\frac12 x^2 + \\frac{1}{3.2} x^3 + \\frac{x^n}{n.(n-1)...(1)} + ...$$\n",
    "\n",
    "$$\\frac{dy}{dx} = 1 + x + \\frac12 x^2 + \\frac{1}{3.2} x^3  + \\frac{x^{n-1}}{(n-1)...(1)} + \\frac{x^n}{n!} + ...$$\n",
    "\n",
    "When goes to infinity, $n!$ grows faster than $x^n$, so the series converges\n",
    "\n",
    "We call $y(x)$ above $e^x$\n",
    "\n"
   ]
  },
  {
   "cell_type": "markdown",
   "metadata": {},
   "source": [
    "Next step to prove third property is true\n",
    "\n",
    "$$e^x = 1 + x + \\frac12 x^2 + \\frac{1}{6} x^3 + ...$$\n",
    "\n",
    "$$e^y = 1 + y + \\frac12 y^2 + \\frac{1}{6} y^3 + ...$$\n",
    "\n",
    "Multiply both\n",
    "\n",
    "$$e^x.e^y = 1 + x + y + \\frac12 x^2 + xy + \\frac12 y^2 + ...$$\n",
    "\n",
    "$$e^{x+y} = 1 + (x + y) + \\frac12 (x + y)^2 + ...$$"
   ]
  },
  {
   "cell_type": "markdown",
   "metadata": {},
   "source": [
    "Next, we can find value of e\n",
    "\n",
    "$$e^1 = 1 + 1 + \\frac12 + \\frac{1}{6} + \\frac{1}{24} + \\frac{1}{120} + ...$$\n",
    "\n",
    "$$e = 2.71828...$$"
   ]
  },
  {
   "cell_type": "code",
   "execution_count": null,
   "metadata": {},
   "outputs": [],
   "source": [
    "using Plots\n",
    "f(x) = exp(x)\n",
    "plot(f, 0, 2)"
   ]
  },
  {
   "cell_type": "code",
   "execution_count": null,
   "metadata": {},
   "outputs": [],
   "source": [
    "plot(f, -1, 2)"
   ]
  },
  {
   "cell_type": "code",
   "execution_count": null,
   "metadata": {},
   "outputs": [],
   "source": [
    "# Let say a bank gives 100% interest for each year\n",
    "# If the money starts from 1, it grows to 2, 4, 8, ... for each year\n",
    "# What is bank add interest for each moth\n",
    "(1 + 1/12)^12"
   ]
  },
  {
   "cell_type": "code",
   "execution_count": null,
   "metadata": {},
   "outputs": [],
   "source": [
    "(1 + 1/365)^365  # interest added for each day"
   ]
  },
  {
   "cell_type": "markdown",
   "metadata": {},
   "source": [
    "If the interest comes in continuously, Calculus comes in, and the numbers approaches e\n",
    "\n",
    "$$(1 + \\frac{1}{n})^n \\to e$$\n",
    "\n",
    "This is another way to construct e\n"
   ]
  },
  {
   "cell_type": "markdown",
   "metadata": {},
   "source": [
    "# Second way to find $e$\n",
    "\n",
    "Let try to compute derivative of exponential function, $f(x) = a^x$ using definition of a derivation\n",
    "\n",
    "$$\\begin{align}\n",
    "f'(x) & = \\lim \\limits_{h \\to 0} \\frac{f(x + h) - f(x)}{h} \\\\\n",
    "& = \\lim \\limits_{h \\to 0} \\frac{a^{x + h} - a^x}{h} \\\\\n",
    "& = \\lim \\limits_{h \\to 0} \\frac{a^x(a^h - 1)}{h} \\\\\n",
    "& = a^x \\lim \\limits_{h \\to 0} \\frac{a^h - 1}{h}\n",
    "\\end{align}$$\n",
    "\n",
    "If $x = 0$, $f'(0) = \\lim \\limits_{h \\to 0} \\frac{a^h - 1}{h}$. In another words,\n",
    "\n",
    "$$f(x) = a^x$$ \n",
    "$$f'(x) = a^x f'(0)$$\n",
    "\n",
    "This equation says that the derivative of any exponential function is proportional to the function itself with the multiplying constant equal to the slope at $x = 0$\n",
    "\n",
    "Now, let try with real numbers like 2 or 3. For example, $y = 2^x$ and $y = 3^x$"
   ]
  },
  {
   "cell_type": "code",
   "execution_count": null,
   "metadata": {},
   "outputs": [],
   "source": [
    "# Let a = 2, f(x) = 2^x\n",
    "f(x) = (2^x - 1)/x\n",
    "map(f, [.1, .01, .001, .0001])"
   ]
  },
  {
   "cell_type": "code",
   "execution_count": null,
   "metadata": {},
   "outputs": [],
   "source": [
    "# Let a = 3, f(x) = 3^x\n",
    "f(x) = (3^x - 1)/x\n",
    "map(f, [.1, .01, .001, .0001])"
   ]
  },
  {
   "cell_type": "markdown",
   "metadata": {},
   "source": [
    "From the above two cells,\n",
    "\n",
    "$$\\frac{d}{dx}(2^x) = (0.693)2^x$$\n",
    "\n",
    "$$\\frac{d}{dx}(3^x) = (1.099)3^x$$\n",
    "\n",
    "Then we ask the equation, does it exist a number, which gives $f'(0) = 1$? If exist, then \n",
    "\n",
    "$$\\frac{d}{dx}(n^x) = n^x$$\n",
    "\n",
    "We don't know what it is for now, but from the result of 2 and 3, it exists and is between 2 and 3. We defined this number as $e$, such that its slope at $x = 0$ is 1 or\n",
    "\n",
    "$$\\lim \\limits_{h \\to 0} \\frac{e^h - 1}{h} = 1 = f'(0)$$\n",
    "\n",
    "We then can express exponential function with any base $a > 0$ with $e$. ($ln = log_e$)\n",
    "\n",
    "$$a^x = e^{(ln\\ a)x}$$\n",
    "\n",
    "and its derivation\n",
    "\n",
    "$$\\frac{d}{dx}a^x = a^x ln \\ a$$\n",
    "\n",
    "In particular, if a = 2, we get \n",
    "\n",
    "$$\\frac{d}{dx}2^x = 2^x ln \\ 2$$\n",
    "\n",
    "and $ln \\ 2 \\approx 0.69$ from above"
   ]
  },
  {
   "cell_type": "markdown",
   "metadata": {},
   "source": [
    "### The inverse of exponential is logarithm. So, we also want to know the derivative if the logarithmic function\n",
    "\n",
    "Let $y = log_a x$. If we proceed with definition of derivative, we can't get any further. Instead, we can try using implicit derivation.\n",
    "\n",
    "Converts the logarithmic function into exponential function, then differentiate\n",
    "\n",
    "$$a^y = x$$\n",
    "\n",
    "$$a^y(ln \\ a)\\frac{dy}{dx} = 1$$\n",
    "\n",
    "and so \n",
    "\n",
    "$$\\frac{dy}{dx} = \\frac{1}{a^y(ln \\ a)} = \\frac{1}{x(ln \\ a)}$$\n",
    "\n",
    "$$\\frac{d}{dx}(log_a x) = \\frac{1}{x(ln \\ a)}$$\n",
    "\n",
    "If we put $a = e$, then $ln \\ a = ln \\ e = 1$\n",
    "\n",
    "$$\\frac{d}{dx}(ln \\ x) = \\frac{1}{x}$$"
   ]
  },
  {
   "cell_type": "markdown",
   "metadata": {},
   "source": [
    "### Now, with all the tools describe above, we can calculate $e$.\n",
    "\n",
    "We will stuck if the starts with definition of derivative for $e$, instead, if we starts with $ln \\ x$, we can get the result \n",
    "\n",
    "We have shown that if $f(x) = ln \\ x$, then $f'(x) = 1/x$. Thus $f'(1) = 1$\n",
    "\n",
    "From the definition of a derivatives as a limit,\n",
    "\n",
    "$$\\begin{align}\n",
    "f'(x) & = \\lim \\limits_{h \\to 0} \\frac{f(x + h) - f(x)}{h} \\\\\n",
    "f'(1) & = \\lim \\limits_{h \\to 0} \\frac{f(1 + h) - f(1)}{h} \\\\\n",
    "& = \\lim \\limits_{h \\to 0} \\frac{ln(1 + h) - ln 1}{h} \\\\\n",
    "& = \\lim \\limits_{h \\to 0} \\frac{1}{h}ln(1 + h) \\\\\n",
    "& = \\lim \\limits_{h \\to 0} ln \\ (1 + h)^{1/h}\n",
    "\\end{align}$$\n",
    "\n",
    "Because $f'(1) = 1$\n",
    "\n",
    "$$\\lim \\limits_{x \\to 0} ln (1 + x)^{1/x} = 1$$\n",
    "\n",
    "$$e = e^1 = e^{\\lim \\limits_{x \\to 0} ln (1 + x)^{1/x}} = \\lim \\limits_{x \\to 0} e^{ln (1 + x)^{1/x}} = \\lim \\limits_{x \\to 0} ln (1 + x)^{1/x}$$"
   ]
  },
  {
   "cell_type": "code",
   "execution_count": null,
   "metadata": {},
   "outputs": [],
   "source": [
    "f(x) = (1 + x)^(1/x)\n",
    "map(f, [.1, .01, .001, .0001, .00001, .000001])\n",
    "# When x approaches 0, f approaches 2.71828..."
   ]
  },
  {
   "cell_type": "markdown",
   "metadata": {},
   "source": [
    "If we put $n = 1/x$, then $n \\to \\infty$ as $x \\to 0^+$, and exponential function becomes \n",
    "\n",
    "$$e  = \\lim \\limits_{n \\to \\infty} (1 + \\frac{1}{n})^n$$"
   ]
  },
  {
   "cell_type": "code",
   "execution_count": null,
   "metadata": {},
   "outputs": [],
   "source": [
    "f(n) = (1 + 1/n)^n\n",
    "map(f, [10, 100, 1000, 10000, 100000, 1000000])  # same result as above"
   ]
  }
 ],
 "metadata": {
  "kernelspec": {
   "display_name": "Julia 1.5.0",
   "language": "julia",
   "name": "julia-1.5"
  },
  "language_info": {
   "file_extension": ".jl",
   "mimetype": "application/julia",
   "name": "julia",
   "version": "1.5.0"
  }
 },
 "nbformat": 4,
 "nbformat_minor": 4
}
