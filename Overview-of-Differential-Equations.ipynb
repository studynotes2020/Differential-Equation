{
 "cells": [
  {
   "cell_type": "markdown",
   "metadata": {},
   "source": [
    "# First Order Equations\n",
    "\n",
    "$$\\frac{dy}{dt} = ay + q(t)$$\n",
    "\n",
    "The rate of change of y, are partly depends on the solution itself, and there is input q(t) which has its own change. This is linear because we see y by itself.\n",
    "\n",
    "$$ \\frac{dy}{dt} = f(y)$$\n",
    "\n",
    "Non-linear equation as $f(y)$ can be $y^2, y^3, \\sin x, e^y$. More general equation will be $ \\frac{dy}{dt} = f(y, t)$ but here the function only depend on y\n",
    "\n"
   ]
  },
  {
   "cell_type": "markdown",
   "metadata": {},
   "source": [
    "# Second Order Equations\n",
    "\n",
    "$$\\frac{d^2y}{dt^2} = -ky$$\n",
    "\n",
    "Acceleration depends linear on force\n",
    "\n",
    "$$my'' + by' + ky = f(t)$$\n",
    "\n",
    "In Newton law, acceleration multiplied by mass, $my''$, some damping depends on velocity, $by'$, and some force depend on distance, $ky$, and there could be some outside force which is creating the movement, $f(t)$. This is linear equation, if it is non-linear, it is hard to solve.\n",
    "\n"
   ]
  },
  {
   "cell_type": "markdown",
   "metadata": {},
   "source": [
    "# Linear Constant Coefficients (good)\n",
    "\n",
    "Nice function $f(t) \\to$ nice function $y(t)$. We have a formula for it, or otherwise solve it numerically.\n",
    "\n",
    "But when we get non-linear or varying coefficient, we have to solve it numerically."
   ]
  },
  {
   "cell_type": "markdown",
   "metadata": {},
   "source": [
    "# System of n equations\n",
    "\n",
    "In reality, we have many equations\n",
    "\n",
    "$$\\frac{dy}{dt} = Ay$$\n",
    "\n",
    "$y$ is a vector, n unknowns. $A$ is a nxn matrix\n",
    "\n",
    "$$\\frac{d^2y}{dt^2} = -Sy$$\n",
    "\n",
    "Linear, constant coefficients, but many equations at once. That will bring in eigenvalues and eigenvectors because it can uncoupled n equations and solve them."
   ]
  },
  {
   "cell_type": "markdown",
   "metadata": {},
   "source": [
    "# Numerical Solutions\n",
    "\n",
    "A lot of solutions can be found numerically\n",
    "\n",
    "## Partial Differential Equation\n",
    "\n",
    "Heat equation\n",
    "$$\\frac{\\partial u}{dt} = \\frac{\\partial^2u}{dx^2}$$ \n",
    "\n",
    "Wave equation\n",
    "$$\\frac{\\partial^2 u}{dt^2} = \\frac{\\partial^2u}{dx^2}$$ \n",
    "\n",
    "Laplace equation\n",
    "$$\\frac{\\partial^2 u}{dx^2} + \\frac{\\partial^2u}{dy^2} = 0$$ \n"
   ]
  },
  {
   "cell_type": "code",
   "execution_count": null,
   "metadata": {},
   "outputs": [],
   "source": []
  }
 ],
 "metadata": {
  "kernelspec": {
   "display_name": "Julia 1.5.0",
   "language": "julia",
   "name": "julia-1.5"
  },
  "language_info": {
   "file_extension": ".jl",
   "mimetype": "application/julia",
   "name": "julia",
   "version": "1.5.0"
  }
 },
 "nbformat": 4,
 "nbformat_minor": 4
}
