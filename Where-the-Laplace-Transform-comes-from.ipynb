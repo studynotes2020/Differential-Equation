{
 "cells": [
  {
   "cell_type": "markdown",
   "metadata": {},
   "source": [
    "# Laplace Transform comes from power series\n",
    "\n",
    "Power series\n",
    "\n",
    "$$\\sum_0^\\infty a(n)x^n = A(x)$$\n",
    "\n",
    "$a(n)$ gives the sequence of coefficients of the power series\n",
    "\n",
    "$$a(n) \\to A(x)$$\n",
    "\n",
    "$$1 \\to \\frac{1}{1-x}, |x| < 1$$ \n",
    "All coefficient is 1 and that will produce a geometry series if |x| < 1. If |x| > 1, the series diverge.\n",
    "\n",
    "$$\\frac{1}{n!} \\to e^x$$\n",
    "\n",
    "x doesn't need to be qualified because this is true for all of x. Taking a discrete function defined for non-negative integers, plug into the formula becomes a continuous function.\n",
    "\n",
    "Variable n goes in, variable x comes out"
   ]
  },
  {
   "cell_type": "markdown",
   "metadata": {},
   "source": [
    "# Continuous analog\n",
    "\n",
    "Replace n = 0, 1, .. $\\infty$ by t = 0, 1, ...  $\\infty$\n",
    "\n",
    "Similarly, replace summation by integration\n",
    "\n",
    "$$\\int_0^\\infty a(t)x^t dt = A(x) $$\n",
    "\n",
    "exponential is really the thing people want to differential and integrate, so convert x to $e^{ln x}$\n",
    "\n",
    "$$x^t = (e^{ln x})^t$$\n",
    "\n",
    "x needs to be smaller than 1. Also, if allow x negative, negative number power something will get into complex number. We don't want complex number,\n",
    "so put $ 0 < x < 1$, which means\n",
    "\n",
    "$$ \\infty < ln x < 0$$\n",
    "\n",
    "We would like to simplify more, hence make $-s = ln x$. Make it negative so that s always positive, more convinient to work with\n",
    "\n",
    "Also, change $a(t)$ to $f(t)$ which is more conventional\n",
    "\n",
    "After making all those changes\n",
    "\n",
    "$$\\int_0^\\infty f(t)e^{-st} dt = A(e^{-s}) $$\n",
    "\n",
    "Since we call input function $f(t)$, we can call output function $F(s)$\n",
    "\n",
    "$$\\int_0^\\infty f(t)e^{-st} dt = F(s) $$\n",
    "\n",
    "This is the continuous analogue of the summation of a power series. It starts with a function defined for $0 \\leq t < \\infty$ and turns it into a function of s\n",
    "\n",
    "This is called Laplace transform\n"
   ]
  },
  {
   "cell_type": "markdown",
   "metadata": {},
   "source": []
  }
 ],
 "metadata": {
  "kernelspec": {
   "display_name": "Julia 1.5.0",
   "language": "julia",
   "name": "julia-1.5"
  },
  "language_info": {
   "file_extension": ".jl",
   "mimetype": "application/julia",
   "name": "julia",
   "version": "1.5.0"
  }
 },
 "nbformat": 4,
 "nbformat_minor": 4
}
